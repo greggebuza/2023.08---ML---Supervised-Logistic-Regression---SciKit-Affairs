{
 "cells": [
  {
   "cell_type": "markdown",
   "id": "526ffc8e",
   "metadata": {},
   "source": [
    "# Supervised Learning - Logistic Regression"
   ]
  },
  {
   "cell_type": "markdown",
   "id": "73cb6bf7",
   "metadata": {},
   "source": [
    "#### Overview\n",
    "\n",
    "In this section we will be using logistic regression. Will will be using Logistic Regression to perform classification of a data set. In this project, we will focus on binary classification, so that we have two outputs, a positive and negative, (1 or 0). To give some examples of what we mean by binary: we could classify email as either spam or not spam, or tumors as either malignant or benign. In both these cases we have a set of data and features, but only two possible outputs. It is possible to have more than just two classes, but for now we will focus on binary classification.\n",
    "\n",
    "In order to perform this classification we will be using the logistic function to perform logistic regression.\n",
    "\n",
    "Here is an overview of what we will do throughout this project:\n",
    "\n",
    "    1. Basic Mathematical Overview of the Logistic Function\n",
    "    2. Extra Math Resources\n",
    "    3. DataSet Analysis\n",
    "    4. Data Visualization\n",
    "    5. Data Preparation\n",
    "    6. Multicollinearity Consideration\n",
    "    7. Logistic Regression with SciKit Learn\n",
    "    8. Testing and Training Data Sets\n",
    "    9. Conclusion and More Resources\n",
    "    \n",
    "Now we'll start with our imports before continuing the lecture (this is because we want to plot some things in our explanation)."
   ]
  },
  {
   "cell_type": "markdown",
   "id": "dd0b5556",
   "metadata": {},
   "source": [
    "----------\n",
    "#### IMPORTS\n",
    "\n",
    "##### Module Install Notice!\n",
    "You'll need to install a new module we haven't used before: [Statsmodels](http://statsmodels.sourceforge.net/).\n",
    "\n",
    "You can install it with 'pip install statsmodels' or 'conda install statsmodels' depending on your Python installation. In this project we will only be using a dataset from it, but it can do quite a bit, including many statistical computations that SciKit Learn does."
   ]
  },
  {
   "cell_type": "code",
   "execution_count": 2,
   "id": "a325bc7b",
   "metadata": {},
   "outputs": [],
   "source": [
    "# Data Imports\n",
    "import numpy as np\n",
    "import pandas as pd\n",
    "from pandas import Series,DataFrame\n",
    "\n",
    "# Math\n",
    "import math\n",
    "\n",
    "# Plot imports\n",
    "import matplotlib.pyplot as plt\n",
    "import seaborn as sns\n",
    "sns.set_style('whitegrid')\n",
    "%matplotlib inline\n",
    "\n",
    "# Machine Learning Imports\n",
    "from sklearn.linear_model import LogisticRegression\n",
    "from sklearn.model_selection import train_test_split\n",
    "\n",
    "# For evaluating our ML results\n",
    "from sklearn import metrics\n",
    "\n",
    "# Dataset Import\n",
    "import statsmodels.api as sm"
   ]
  },
  {
   "cell_type": "markdown",
   "id": "ed999e64",
   "metadata": {},
   "source": [
    "### Part 1: Basic Mathematical Overview\n",
    "\n",
    "First, let's take a look at the [Logistic Function](http://en.wikipedia.org/wiki/Logistic_function). The logistic function can take an input from negative to positive infinity and it has always has an output between 0 and 1. The logistic function is defined as:\n",
    "$$ \\sigma (t)= \\frac{1}{1+e^{-t}}$$\n",
    "\n",
    "A graph of the logistic function looks like this (following code):"
   ]
  },
  {
   "cell_type": "code",
   "execution_count": 2,
   "id": "a9d1b459",
   "metadata": {},
   "outputs": [
    {
     "data": {
      "text/plain": [
       "Text(0.5, 1.0, ' Logistic Function ')"
      ]
     },
     "execution_count": 2,
     "metadata": {},
     "output_type": "execute_result"
    },
    {
     "data": {
      "image/png": "[encoded data removed]",
      "text/plain": [
       "<Figure size 640x480 with 1 Axes>"
      ]
     },
     "metadata": {},
     "output_type": "display_data"
    }
   ],
   "source": [
    "# Logistic Function\n",
    "def logistic(t):\n",
    "    return 1.0 / (1 + math.exp((-1.0)*t) )\n",
    "\n",
    "# Set t from -6 to 6 ( 500 elements, linearly spaced)\n",
    "t = np.linspace(-6,6,500)\n",
    "\n",
    "# Set up y values (using list comprehension)\n",
    "y = np.array([logistic(ele) for ele in t])\n",
    "\n",
    "# Plot\n",
    "plt.plot(t,y)\n",
    "plt.title(' Logistic Function ')\n"
   ]
  },
  {
   "cell_type": "markdown",
   "id": "2b19f27d",
   "metadata": {},
   "source": [
    "If we remember back to the Linear Regression Lectures, we could describe a [Linear Regression](http://en.wikipedia.org/wiki/Linear_regression) Function model as:\n",
    "$$ y_i = \\beta _1 x_{i1} + ... + \\beta _i x_{ip}$$\n",
    "\n",
    "Which was basically an expanded linear equation (y=mx+b) for various x data features. In the case of the above equation, we presume a data set of 'n' number of units, so that the data set would have the form:\n",
    "$$ [ y_i, x_{i1},...,x_{ip}]^{n}_{i=1}$$\n",
    "\n",
    "For our logistic function, if we view *t* as a linear function with a variable *x* we could express t as:\n",
    "$$ t = \\beta _0 + \\beta _1 x $$\n",
    "\n",
    "Here, we've basically just substituted a linear function (form similar to y=mx+b) for t. We could then rewrite our logistic function equation as:\n",
    "$$ F(x)= \\frac{1}{1+e^{-(\\beta _0 + \\beta _1 x)}}$$\n",
    "\n",
    "Now we can interpret F(x) as the probability that the dependent variable is a \"success\" case, this is a similar style of thinking as in the Binomial Distribution, in which we had successes and failures. So the formula for F(x) that we have here states that the probability of the dependent variable equaling a \"success\" case is equal to the value of the logistic function of the linear regression expression (the linear equation we used to replace *t* ).\n",
    "\n",
    "Inputting the linear regression expression into the logistic function allows us to have a linear regression expression value that can vary from positive to negative infinity, but after the transformation due to the logistic expression we will have an output of F(x) that ranges from 0 to 1.\n",
    "\n",
    "We can now perform a binary classification based on where F(x) lies, either from 0 to 0.5, or 0.5 to 1. \n",
    "\n",
    "### Part 2: Extra Math Resources\n",
    "\n",
    "This is a very basic overview of binary classification using Logistic Regression, if you're still interested in a deeper dive into the mathematics, check out these sources:\n",
    "\n",
    "1.) [Andrew Ng's class notes](http://cs229.stanford.edu/notes/cs229-notes1.pdf) on Logistic Regression (Note: Scroll down) \n",
    "\n",
    "2.) [CMU notes](http://www.stat.cmu.edu/~cshalizi/uADA/12/lectures/ch12.pdf) Note: Advanced math notation.\n",
    "\n",
    "3.) [Wikipedia](http://en.wikipedia.org/wiki/Logistic_regression) has a very extensive look at logistic regression.\n",
    "\n",
    "Scroll down to the bottom for more resources similar to this lecture!"
   ]
  },
  {
   "cell_type": "markdown",
   "id": "f6779796",
   "metadata": {},
   "source": [
    "-----------\n",
    "### Part 3: Dataset Analysis\n",
    "Let us go ahead and take a look at the [dataset](http://statsmodels.sourceforge.net/stable/datasets/generated/fair.html)\n",
    "\n",
    "The dataset is packaged within Statsmodels. It is a data set from a 1974 survey of women by Redbook magazine. Married women were asked if they have had extramarital affairs. The published work on the data set can be found in:\n",
    "\n",
    "[Fair, Ray. 1978. “A Theory of Extramarital Affairs,” `Journal of Political Economy`, February, 45-61.](http://fairmodel.econ.yale.edu/rayfair/pdf/1978a200.pdf)\n",
    "\n",
    "It is important to note that this data comes from a self-reported survey, which can have many issues as far as the accuracy of the data. Also this analysis isn't trying to promote any agenda concerning women or marriage, the data is just interesting but its accuracy should be met with a healthy dose of skepticism.\n",
    "\n",
    "We'll ignore those issues concerning the data and just worry about the logistic regression aspects to the data."
   ]
  },
  {
   "cell_type": "markdown",
   "id": "362b2144",
   "metadata": {},
   "source": [
    "In this case we will approach this as a classification problem by asking the question:\n",
    "\n",
    "*Given certain variables for each woman, can we classify them as either having particpated in an affair, or not participated in an affair?*\n",
    "\n",
    "\n",
    "#### DataSet Description\n",
    "\n",
    "From the [Statsmodels website](http://statsmodels.sourceforge.net/stable/datasets/generated/fair.html) we have the following information about the data:\n",
    "\n",
    "Number of observations: 6366\n",
    "Number of variables: 9\n",
    "Variable name definitions:\n",
    "\n",
    "    rate_marriage   : How rate marriage, 1 = very poor, 2 = poor, 3 = fair,\n",
    "                    4 = good, 5 = very good\n",
    "    age             : Age\n",
    "    yrs_married     : No. years married. Interval approximations. See\n",
    "                    original paper for detailed explanation.\n",
    "    children        : No. children\n",
    "    religious       : How relgious, 1 = not, 2 = mildly, 3 = fairly,\n",
    "                    4 = strongly\n",
    "    educ            : Level of education, 9 = grade school, 12 = high\n",
    "                    school, 14 = some college, 16 = college graduate,\n",
    "                    17 = some graduate school, 20 = advanced degree\n",
    "    occupation      : 1 = student, 2 = farming, agriculture; semi-skilled,\n",
    "                    or unskilled worker; 3 = white-colloar; 4 = teacher\n",
    "                    counselor social worker, nurse; artist, writers;\n",
    "                    technician, skilled worker, 5 = managerial,\n",
    "                    administrative, business, 6 = professional with\n",
    "                    advanced degree\n",
    "    occupation_husb : Husband's occupation. Same as occupation.\n",
    "    affairs         : measure of time spent in extramarital affairs\n",
    "\n",
    "See the original paper for more details."
   ]
  },
  {
   "cell_type": "markdown",
   "id": "b45521fd",
   "metadata": {},
   "source": [
    "------------\n",
    "### Part 4: Data Visualization\n",
    "\n",
    "Now that we've done a quick overview of some math and the data we will be working with, let's go ahead and dive into the code!\n",
    "\n",
    "We will start with loading the data and visualizing it. "
   ]
  },
  {
   "cell_type": "code",
   "execution_count": 3,
   "id": "e1cace9d",
   "metadata": {},
   "outputs": [],
   "source": [
    "# Standard method of loading Statsmodels datasets into a pandas DataFrame. Note the name fair stands for 'affair' dataset.\n",
    "df_affairs = sm.datasets.fair.load_pandas().data"
   ]
  },
  {
   "cell_type": "code",
   "execution_count": 4,
   "id": "7461a7b3",
   "metadata": {},
   "outputs": [
    {
     "data": {
      "text/html": [
       "<div>\n",
       "<style scoped>\n",
       "    .dataframe tbody tr th:only-of-type {\n",
       "        vertical-align: middle;\n",
       "    }\n",
       "\n",
       "    .dataframe tbody tr th {\n",
       "        vertical-align: top;\n",
       "    }\n",
       "\n",
       "    .dataframe thead th {\n",
       "        text-align: right;\n",
       "    }\n",
       "</style>\n",
       "<table border=\"1\" class=\"dataframe\">\n",
       "  <thead>\n",
       "    <tr style=\"text-align: right;\">\n",
       "      <th></th>\n",
       "      <th>rate_marriage</th>\n",
       "      <th>age</th>\n",
       "      <th>yrs_married</th>\n",
       "      <th>children</th>\n",
       "      <th>religious</th>\n",
       "      <th>educ</th>\n",
       "      <th>occupation</th>\n",
       "      <th>occupation_husb</th>\n",
       "      <th>affairs</th>\n",
       "    </tr>\n",
       "  </thead>\n",
       "  <tbody>\n",
       "    <tr>\n",
       "      <th>0</th>\n",
       "      <td>3.0</td>\n",
       "      <td>32.0</td>\n",
       "      <td>9.0</td>\n",
       "      <td>3.0</td>\n",
       "      <td>3.0</td>\n",
       "      <td>17.0</td>\n",
       "      <td>2.0</td>\n",
       "      <td>5.0</td>\n",
       "      <td>0.111111</td>\n",
       "    </tr>\n",
       "    <tr>\n",
       "      <th>1</th>\n",
       "      <td>3.0</td>\n",
       "      <td>27.0</td>\n",
       "      <td>13.0</td>\n",
       "      <td>3.0</td>\n",
       "      <td>1.0</td>\n",
       "      <td>14.0</td>\n",
       "      <td>3.0</td>\n",
       "      <td>4.0</td>\n",
       "      <td>3.230769</td>\n",
       "    </tr>\n",
       "    <tr>\n",
       "      <th>2</th>\n",
       "      <td>4.0</td>\n",
       "      <td>22.0</td>\n",
       "      <td>2.5</td>\n",
       "      <td>0.0</td>\n",
       "      <td>1.0</td>\n",
       "      <td>16.0</td>\n",
       "      <td>3.0</td>\n",
       "      <td>5.0</td>\n",
       "      <td>1.400000</td>\n",
       "    </tr>\n",
       "    <tr>\n",
       "      <th>3</th>\n",
       "      <td>4.0</td>\n",
       "      <td>37.0</td>\n",
       "      <td>16.5</td>\n",
       "      <td>4.0</td>\n",
       "      <td>3.0</td>\n",
       "      <td>16.0</td>\n",
       "      <td>5.0</td>\n",
       "      <td>5.0</td>\n",
       "      <td>0.727273</td>\n",
       "    </tr>\n",
       "    <tr>\n",
       "      <th>4</th>\n",
       "      <td>5.0</td>\n",
       "      <td>27.0</td>\n",
       "      <td>9.0</td>\n",
       "      <td>1.0</td>\n",
       "      <td>1.0</td>\n",
       "      <td>14.0</td>\n",
       "      <td>3.0</td>\n",
       "      <td>4.0</td>\n",
       "      <td>4.666666</td>\n",
       "    </tr>\n",
       "  </tbody>\n",
       "</table>\n",
       "</div>"
      ],
      "text/plain": [
       "   rate_marriage   age  yrs_married  children  religious  educ  occupation  \\\n",
       "0            3.0  32.0          9.0       3.0        3.0  17.0         2.0   \n",
       "1            3.0  27.0         13.0       3.0        1.0  14.0         3.0   \n",
       "2            4.0  22.0          2.5       0.0        1.0  16.0         3.0   \n",
       "3            4.0  37.0         16.5       4.0        3.0  16.0         5.0   \n",
       "4            5.0  27.0          9.0       1.0        1.0  14.0         3.0   \n",
       "\n",
       "   occupation_husb   affairs  \n",
       "0              5.0  0.111111  \n",
       "1              4.0  3.230769  \n",
       "2              5.0  1.400000  \n",
       "3              5.0  0.727273  \n",
       "4              4.0  4.666666  "
      ]
     },
     "execution_count": 4,
     "metadata": {},
     "output_type": "execute_result"
    }
   ],
   "source": [
    "# Preview the Data\n",
    "df_affairs.head()"
   ]
  },
  {
   "cell_type": "markdown",
   "id": "a7c10295",
   "metadata": {},
   "source": [
    "Great! Let's go ahead and start our classfication by creating a new column called 'Had_Affair'. We will set this column equal to 0 if the affairs column is 0 (meaning no time spent in affairs) otherwise the 'Had_Affair' value will be set as 1, indicating that the woman had an affair."
   ]
  },
  {
   "cell_type": "code",
   "execution_count": 6,
   "id": "58ffb58e",
   "metadata": {},
   "outputs": [],
   "source": [
    "# Create a check for affair function\n",
    "def check_for_affair(affair):\n",
    "    if affair != 0:\n",
    "        return 1\n",
    "    else:\n",
    "        return 0\n",
    "\n",
    "# Apply the function to the DataFrame\n",
    "df_affairs['Had_Affair'] = df_affairs['affairs'].apply(check_for_affair)"
   ]
  },
  {
   "cell_type": "code",
   "execution_count": 7,
   "id": "e1663238",
   "metadata": {},
   "outputs": [
    {
     "data": {
      "text/html": [
       "<div>\n",
       "<style scoped>\n",
       "    .dataframe tbody tr th:only-of-type {\n",
       "        vertical-align: middle;\n",
       "    }\n",
       "\n",
       "    .dataframe tbody tr th {\n",
       "        vertical-align: top;\n",
       "    }\n",
       "\n",
       "    .dataframe thead th {\n",
       "        text-align: right;\n",
       "    }\n",
       "</style>\n",
       "<table border=\"1\" class=\"dataframe\">\n",
       "  <thead>\n",
       "    <tr style=\"text-align: right;\">\n",
       "      <th></th>\n",
       "      <th>rate_marriage</th>\n",
       "      <th>age</th>\n",
       "      <th>yrs_married</th>\n",
       "      <th>children</th>\n",
       "      <th>religious</th>\n",
       "      <th>educ</th>\n",
       "      <th>occupation</th>\n",
       "      <th>occupation_husb</th>\n",
       "      <th>affairs</th>\n",
       "      <th>Had_Affair</th>\n",
       "    </tr>\n",
       "  </thead>\n",
       "  <tbody>\n",
       "    <tr>\n",
       "      <th>0</th>\n",
       "      <td>3.0</td>\n",
       "      <td>32.0</td>\n",
       "      <td>9.0</td>\n",
       "      <td>3.0</td>\n",
       "      <td>3.0</td>\n",
       "      <td>17.0</td>\n",
       "      <td>2.0</td>\n",
       "      <td>5.0</td>\n",
       "      <td>0.111111</td>\n",
       "      <td>1</td>\n",
       "    </tr>\n",
       "    <tr>\n",
       "      <th>1</th>\n",
       "      <td>3.0</td>\n",
       "      <td>27.0</td>\n",
       "      <td>13.0</td>\n",
       "      <td>3.0</td>\n",
       "      <td>1.0</td>\n",
       "      <td>14.0</td>\n",
       "      <td>3.0</td>\n",
       "      <td>4.0</td>\n",
       "      <td>3.230769</td>\n",
       "      <td>1</td>\n",
       "    </tr>\n",
       "    <tr>\n",
       "      <th>2</th>\n",
       "      <td>4.0</td>\n",
       "      <td>22.0</td>\n",
       "      <td>2.5</td>\n",
       "      <td>0.0</td>\n",
       "      <td>1.0</td>\n",
       "      <td>16.0</td>\n",
       "      <td>3.0</td>\n",
       "      <td>5.0</td>\n",
       "      <td>1.400000</td>\n",
       "      <td>1</td>\n",
       "    </tr>\n",
       "    <tr>\n",
       "      <th>3</th>\n",
       "      <td>4.0</td>\n",
       "      <td>37.0</td>\n",
       "      <td>16.5</td>\n",
       "      <td>4.0</td>\n",
       "      <td>3.0</td>\n",
       "      <td>16.0</td>\n",
       "      <td>5.0</td>\n",
       "      <td>5.0</td>\n",
       "      <td>0.727273</td>\n",
       "      <td>1</td>\n",
       "    </tr>\n",
       "    <tr>\n",
       "      <th>4</th>\n",
       "      <td>5.0</td>\n",
       "      <td>27.0</td>\n",
       "      <td>9.0</td>\n",
       "      <td>1.0</td>\n",
       "      <td>1.0</td>\n",
       "      <td>14.0</td>\n",
       "      <td>3.0</td>\n",
       "      <td>4.0</td>\n",
       "      <td>4.666666</td>\n",
       "      <td>1</td>\n",
       "    </tr>\n",
       "    <tr>\n",
       "      <th>...</th>\n",
       "      <td>...</td>\n",
       "      <td>...</td>\n",
       "      <td>...</td>\n",
       "      <td>...</td>\n",
       "      <td>...</td>\n",
       "      <td>...</td>\n",
       "      <td>...</td>\n",
       "      <td>...</td>\n",
       "      <td>...</td>\n",
       "      <td>...</td>\n",
       "    </tr>\n",
       "    <tr>\n",
       "      <th>6361</th>\n",
       "      <td>5.0</td>\n",
       "      <td>32.0</td>\n",
       "      <td>13.0</td>\n",
       "      <td>2.0</td>\n",
       "      <td>3.0</td>\n",
       "      <td>17.0</td>\n",
       "      <td>4.0</td>\n",
       "      <td>3.0</td>\n",
       "      <td>0.000000</td>\n",
       "      <td>0</td>\n",
       "    </tr>\n",
       "    <tr>\n",
       "      <th>6362</th>\n",
       "      <td>4.0</td>\n",
       "      <td>32.0</td>\n",
       "      <td>13.0</td>\n",
       "      <td>1.0</td>\n",
       "      <td>1.0</td>\n",
       "      <td>16.0</td>\n",
       "      <td>5.0</td>\n",
       "      <td>5.0</td>\n",
       "      <td>0.000000</td>\n",
       "      <td>0</td>\n",
       "    </tr>\n",
       "    <tr>\n",
       "      <th>6363</th>\n",
       "      <td>5.0</td>\n",
       "      <td>22.0</td>\n",
       "      <td>2.5</td>\n",
       "      <td>0.0</td>\n",
       "      <td>2.0</td>\n",
       "      <td>14.0</td>\n",
       "      <td>3.0</td>\n",
       "      <td>1.0</td>\n",
       "      <td>0.000000</td>\n",
       "      <td>0</td>\n",
       "    </tr>\n",
       "    <tr>\n",
       "      <th>6364</th>\n",
       "      <td>5.0</td>\n",
       "      <td>32.0</td>\n",
       "      <td>6.0</td>\n",
       "      <td>1.0</td>\n",
       "      <td>3.0</td>\n",
       "      <td>14.0</td>\n",
       "      <td>3.0</td>\n",
       "      <td>4.0</td>\n",
       "      <td>0.000000</td>\n",
       "      <td>0</td>\n",
       "    </tr>\n",
       "    <tr>\n",
       "      <th>6365</th>\n",
       "      <td>4.0</td>\n",
       "      <td>22.0</td>\n",
       "      <td>2.5</td>\n",
       "      <td>0.0</td>\n",
       "      <td>2.0</td>\n",
       "      <td>16.0</td>\n",
       "      <td>2.0</td>\n",
       "      <td>4.0</td>\n",
       "      <td>0.000000</td>\n",
       "      <td>0</td>\n",
       "    </tr>\n",
       "  </tbody>\n",
       "</table>\n",
       "<p>6366 rows × 10 columns</p>\n",
       "</div>"
      ],
      "text/plain": [
       "      rate_marriage   age  yrs_married  children  religious  educ  occupation  \\\n",
       "0               3.0  32.0          9.0       3.0        3.0  17.0         2.0   \n",
       "1               3.0  27.0         13.0       3.0        1.0  14.0         3.0   \n",
       "2               4.0  22.0          2.5       0.0        1.0  16.0         3.0   \n",
       "3               4.0  37.0         16.5       4.0        3.0  16.0         5.0   \n",
       "4               5.0  27.0          9.0       1.0        1.0  14.0         3.0   \n",
       "...             ...   ...          ...       ...        ...   ...         ...   \n",
       "6361            5.0  32.0         13.0       2.0        3.0  17.0         4.0   \n",
       "6362            4.0  32.0         13.0       1.0        1.0  16.0         5.0   \n",
       "6363            5.0  22.0          2.5       0.0        2.0  14.0         3.0   \n",
       "6364            5.0  32.0          6.0       1.0        3.0  14.0         3.0   \n",
       "6365            4.0  22.0          2.5       0.0        2.0  16.0         2.0   \n",
       "\n",
       "      occupation_husb   affairs  Had_Affair  \n",
       "0                 5.0  0.111111           1  \n",
       "1                 4.0  3.230769           1  \n",
       "2                 5.0  1.400000           1  \n",
       "3                 5.0  0.727273           1  \n",
       "4                 4.0  4.666666           1  \n",
       "...               ...       ...         ...  \n",
       "6361              3.0  0.000000           0  \n",
       "6362              5.0  0.000000           0  \n",
       "6363              1.0  0.000000           0  \n",
       "6364              4.0  0.000000           0  \n",
       "6365              4.0  0.000000           0  \n",
       "\n",
       "[6366 rows x 10 columns]"
      ]
     },
     "execution_count": 7,
     "metadata": {},
     "output_type": "execute_result"
    }
   ],
   "source": [
    "# Check the DataFrame to see the results\n",
    "df_affairs"
   ]
  },
  {
   "cell_type": "markdown",
   "id": "111cd78f",
   "metadata": {},
   "source": [
    "Now let's go ahead and groupby the newly created 'Had_Affair' column. We'll do this by grouping by the column and then calling the mean aggregate function. "
   ]
  },
  {
   "cell_type": "code",
   "execution_count": 11,
   "id": "89aa2a4b",
   "metadata": {},
   "outputs": [
    {
     "data": {
      "text/html": [
       "<div>\n",
       "<style scoped>\n",
       "    .dataframe tbody tr th:only-of-type {\n",
       "        vertical-align: middle;\n",
       "    }\n",
       "\n",
       "    .dataframe tbody tr th {\n",
       "        vertical-align: top;\n",
       "    }\n",
       "\n",
       "    .dataframe thead th {\n",
       "        text-align: right;\n",
       "    }\n",
       "</style>\n",
       "<table border=\"1\" class=\"dataframe\">\n",
       "  <thead>\n",
       "    <tr style=\"text-align: right;\">\n",
       "      <th></th>\n",
       "      <th>rate_marriage</th>\n",
       "      <th>age</th>\n",
       "      <th>yrs_married</th>\n",
       "      <th>children</th>\n",
       "      <th>religious</th>\n",
       "      <th>educ</th>\n",
       "      <th>occupation</th>\n",
       "      <th>occupation_husb</th>\n",
       "      <th>affairs</th>\n",
       "    </tr>\n",
       "    <tr>\n",
       "      <th>Had_Affair</th>\n",
       "      <th></th>\n",
       "      <th></th>\n",
       "      <th></th>\n",
       "      <th></th>\n",
       "      <th></th>\n",
       "      <th></th>\n",
       "      <th></th>\n",
       "      <th></th>\n",
       "      <th></th>\n",
       "    </tr>\n",
       "  </thead>\n",
       "  <tbody>\n",
       "    <tr>\n",
       "      <th>0</th>\n",
       "      <td>4.329701</td>\n",
       "      <td>28.390679</td>\n",
       "      <td>7.989335</td>\n",
       "      <td>1.238813</td>\n",
       "      <td>2.504521</td>\n",
       "      <td>14.322977</td>\n",
       "      <td>3.405286</td>\n",
       "      <td>3.833758</td>\n",
       "      <td>0.000000</td>\n",
       "    </tr>\n",
       "    <tr>\n",
       "      <th>1</th>\n",
       "      <td>3.647345</td>\n",
       "      <td>30.537019</td>\n",
       "      <td>11.152460</td>\n",
       "      <td>1.728933</td>\n",
       "      <td>2.261568</td>\n",
       "      <td>13.972236</td>\n",
       "      <td>3.463712</td>\n",
       "      <td>3.884559</td>\n",
       "      <td>2.187243</td>\n",
       "    </tr>\n",
       "  </tbody>\n",
       "</table>\n",
       "</div>"
      ],
      "text/plain": [
       "            rate_marriage        age  yrs_married  children  religious  \\\n",
       "Had_Affair                                                               \n",
       "0                4.329701  28.390679     7.989335  1.238813   2.504521   \n",
       "1                3.647345  30.537019    11.152460  1.728933   2.261568   \n",
       "\n",
       "                 educ  occupation  occupation_husb   affairs  \n",
       "Had_Affair                                                    \n",
       "0           14.322977    3.405286         3.833758  0.000000  \n",
       "1           13.972236    3.463712         3.884559  2.187243  "
      ]
     },
     "execution_count": 11,
     "metadata": {},
     "output_type": "execute_result"
    }
   ],
   "source": [
    "# Group by the new binary affair columns and aggregate the average\n",
    "df_affairs.groupby('Had_Affair').mean()"
   ]
  },
  {
   "cell_type": "markdown",
   "id": "5b3d13da",
   "metadata": {},
   "source": [
    "Looking at this brief glance of the data, it seems that the women who had affairs were slightly older,married longer, and slightly less religious and less educated. However, the mean values of both classes are very close for all variables.\n",
    "\n",
    "Let's go ahead and try to visualize some of this data."
   ]
  },
  {
   "cell_type": "code",
   "execution_count": 16,
   "id": "6f1b2ae5",
   "metadata": {},
   "outputs": [
    {
     "data": {
      "text/plain": [
       "<seaborn.axisgrid.FacetGrid at 0x2cbe151df10>"
      ]
     },
     "execution_count": 16,
     "metadata": {},
     "output_type": "execute_result"
    },
    {
     "data": {
      "image/png": "[encoded data removed]",
      "text/plain": [
       "<Figure size 576.861x500 with 1 Axes>"
      ]
     },
     "metadata": {},
     "output_type": "display_data"
    }
   ],
   "source": [
    "# Plot a category plot, histogram, x = age vs. y = count, split by Had_Affair\n",
    "sns.catplot(data = df_affairs, x = 'age', hue = 'Had_Affair', kind = 'count', palette = 'coolwarm')"
   ]
  },
  {
   "cell_type": "markdown",
   "id": "f8ffff53",
   "metadata": {},
   "source": [
    "OBSERVATION 1 - At a base level, it looks like as age increases, the likelihood of an Affair increases."
   ]
  },
  {
   "cell_type": "code",
   "execution_count": 17,
   "id": "2d021c9c",
   "metadata": {},
   "outputs": [
    {
     "data": {
      "text/plain": [
       "<seaborn.axisgrid.FacetGrid at 0x2cbe155fc10>"
      ]
     },
     "execution_count": 17,
     "metadata": {},
     "output_type": "execute_result"
    },
    {
     "data": {
      "image/png": "[encoded data removed]",
      "text/plain": [
       "<Figure size 576.861x500 with 1 Axes>"
      ]
     },
     "metadata": {},
     "output_type": "display_data"
    }
   ],
   "source": [
    "# Plot same as above, BUT for years married\n",
    "sns.catplot(data = df_affairs, x = 'yrs_married', hue = 'Had_Affair', kind = 'count', palette = 'coolwarm')"
   ]
  },
  {
   "cell_type": "markdown",
   "id": "b80d02fd",
   "metadata": {},
   "source": [
    "OBSERVATION 2 - Based on the chart, it looks like as the years married increases the increase in an affair increases"
   ]
  },
  {
   "cell_type": "code",
   "execution_count": 18,
   "id": "207414b4",
   "metadata": {},
   "outputs": [
    {
     "data": {
      "text/plain": [
       "<seaborn.axisgrid.FacetGrid at 0x2cbe1c8e850>"
      ]
     },
     "execution_count": 18,
     "metadata": {},
     "output_type": "execute_result"
    },
    {
     "data": {
      "image/png": "[encoded data removed]",
      "text/plain": [
       "<Figure size 576.861x500 with 1 Axes>"
      ]
     },
     "metadata": {},
     "output_type": "display_data"
    }
   ],
   "source": [
    "# Plot the same as above, BUT with number of children\n",
    "sns.catplot(data = df_affairs, x = 'children', hue = 'Had_Affair', kind = 'count', palette = 'coolwarm')"
   ]
  },
  {
   "cell_type": "markdown",
   "id": "66cee288",
   "metadata": {},
   "source": [
    "OBSERVATION 3 - the lower amount of children seems to relate to less affairs"
   ]
  },
  {
   "cell_type": "code",
   "execution_count": 20,
   "id": "9a942ddb",
   "metadata": {},
   "outputs": [
    {
     "data": {
      "text/plain": [
       "<seaborn.axisgrid.FacetGrid at 0x2cbe1d6fc10>"
      ]
     },
     "execution_count": 20,
     "metadata": {},
     "output_type": "execute_result"
    },
    {
     "data": {
      "image/png": "[encoded data removed]",
      "text/plain": [
       "<Figure size 576.861x500 with 1 Axes>"
      ]
     },
     "metadata": {},
     "output_type": "display_data"
    }
   ],
   "source": [
    "# Plot the same as above, BUT with education of the female\n",
    "sns.catplot(data = df_affairs, x = 'educ', hue = 'Had_Affair', kind = 'count', palette = 'coolwarm')"
   ]
  },
  {
   "cell_type": "markdown",
   "id": "aea8c66f",
   "metadata": {},
   "source": [
    "OBSERVATION 4 - the gap closes between affair and not when the education increases."
   ]
  },
  {
   "cell_type": "markdown",
   "id": "1860c944",
   "metadata": {},
   "source": [
    "## Logistic Regression Analysis"
   ]
  },
  {
   "cell_type": "markdown",
   "id": "2c845b8b",
   "metadata": {},
   "source": [
    "### Part 5:  Data Preparation\n",
    "\n",
    "If we look at the data, we'll notice that two columns are unlike the others. Occupation and Husband's Occupation. These columns are in a format know as *Categorical Variables*. Basically they are in set quantity/category, so that 1.0 and 2.0 are seperate variables, not values along a spectrum that goes from 1-2 (e.g. There is no 1.5 for the occupation column). Pandas has a built-in method of getting [dummy variables](http://en.wikipedia.org/wiki/Dummy_variable_%28statistics%29) and creating new columns from them."
   ]
  },
  {
   "cell_type": "code",
   "execution_count": 8,
   "id": "c9daf068",
   "metadata": {},
   "outputs": [
    {
     "data": {
      "text/html": [
       "<div>\n",
       "<style scoped>\n",
       "    .dataframe tbody tr th:only-of-type {\n",
       "        vertical-align: middle;\n",
       "    }\n",
       "\n",
       "    .dataframe tbody tr th {\n",
       "        vertical-align: top;\n",
       "    }\n",
       "\n",
       "    .dataframe thead th {\n",
       "        text-align: right;\n",
       "    }\n",
       "</style>\n",
       "<table border=\"1\" class=\"dataframe\">\n",
       "  <thead>\n",
       "    <tr style=\"text-align: right;\">\n",
       "      <th></th>\n",
       "      <th>1.0</th>\n",
       "      <th>2.0</th>\n",
       "      <th>3.0</th>\n",
       "      <th>4.0</th>\n",
       "      <th>5.0</th>\n",
       "      <th>6.0</th>\n",
       "    </tr>\n",
       "  </thead>\n",
       "  <tbody>\n",
       "    <tr>\n",
       "      <th>0</th>\n",
       "      <td>0</td>\n",
       "      <td>1</td>\n",
       "      <td>0</td>\n",
       "      <td>0</td>\n",
       "      <td>0</td>\n",
       "      <td>0</td>\n",
       "    </tr>\n",
       "    <tr>\n",
       "      <th>1</th>\n",
       "      <td>0</td>\n",
       "      <td>0</td>\n",
       "      <td>1</td>\n",
       "      <td>0</td>\n",
       "      <td>0</td>\n",
       "      <td>0</td>\n",
       "    </tr>\n",
       "    <tr>\n",
       "      <th>2</th>\n",
       "      <td>0</td>\n",
       "      <td>0</td>\n",
       "      <td>1</td>\n",
       "      <td>0</td>\n",
       "      <td>0</td>\n",
       "      <td>0</td>\n",
       "    </tr>\n",
       "    <tr>\n",
       "      <th>3</th>\n",
       "      <td>0</td>\n",
       "      <td>0</td>\n",
       "      <td>0</td>\n",
       "      <td>0</td>\n",
       "      <td>1</td>\n",
       "      <td>0</td>\n",
       "    </tr>\n",
       "    <tr>\n",
       "      <th>4</th>\n",
       "      <td>0</td>\n",
       "      <td>0</td>\n",
       "      <td>1</td>\n",
       "      <td>0</td>\n",
       "      <td>0</td>\n",
       "      <td>0</td>\n",
       "    </tr>\n",
       "  </tbody>\n",
       "</table>\n",
       "</div>"
      ],
      "text/plain": [
       "   1.0  2.0  3.0  4.0  5.0  6.0\n",
       "0    0    1    0    0    0    0\n",
       "1    0    0    1    0    0    0\n",
       "2    0    0    1    0    0    0\n",
       "3    0    0    0    0    1    0\n",
       "4    0    0    1    0    0    0"
      ]
     },
     "execution_count": 8,
     "metadata": {},
     "output_type": "execute_result"
    }
   ],
   "source": [
    "# Create a new DataFrame for the Categorical Variable:\n",
    "# Female Occupation\n",
    "df_occupation = pd.get_dummies(df_affairs['occupation'], dtype = int)\n",
    "# Male Occupation\n",
    "df_husband_occupation = pd.get_dummies(df_affairs['occupation_husb'], dtype = int)\n",
    "\n",
    "# Show results of DataFrame\n",
    "df_occupation.head()"
   ]
  },
  {
   "cell_type": "code",
   "execution_count": 9,
   "id": "fc764bd0",
   "metadata": {},
   "outputs": [],
   "source": [
    "# Make the DataFrame more readable by adding Columns names for both hushand and wife occupations:\n",
    "\n",
    "# New column names for wife\n",
    "df_occupation.columns = ['occ1', 'occ2', 'occ3', 'occ4', 'occ5', 'occ6']\n",
    "\n",
    "# New column names for husband\n",
    "df_husband_occupation.columns = ['husband_occ1', 'husband_occ2', 'husband_occ3', 'husband_occ4', 'husband_occ5', 'husband_occ6']\n"
   ]
  },
  {
   "cell_type": "markdown",
   "id": "68e7ebb2",
   "metadata": {},
   "source": [
    "Now we will create the X and Y data sets for out logistic regression"
   ]
  },
  {
   "cell_type": "code",
   "execution_count": 10,
   "id": "a946eb58",
   "metadata": {},
   "outputs": [],
   "source": [
    "# Set a new DataFrame X without the non-dummy []i.e. Categorical Variable Columns] columns and the target column\n",
    "X = df_affairs.drop(['occupation','occupation_husb','Had_Affair'], axis = 1)"
   ]
  },
  {
   "cell_type": "code",
   "execution_count": 11,
   "id": "2ce4e921",
   "metadata": {},
   "outputs": [],
   "source": [
    "# Concat the dummy DataFrames together on columns\n",
    "df_dummy_varibles = pd.concat([df_occupation, df_husband_occupation], axis = 1)"
   ]
  },
  {
   "cell_type": "code",
   "execution_count": 12,
   "id": "0c907ffb",
   "metadata": {},
   "outputs": [
    {
     "data": {
      "text/html": [
       "<div>\n",
       "<style scoped>\n",
       "    .dataframe tbody tr th:only-of-type {\n",
       "        vertical-align: middle;\n",
       "    }\n",
       "\n",
       "    .dataframe tbody tr th {\n",
       "        vertical-align: top;\n",
       "    }\n",
       "\n",
       "    .dataframe thead th {\n",
       "        text-align: right;\n",
       "    }\n",
       "</style>\n",
       "<table border=\"1\" class=\"dataframe\">\n",
       "  <thead>\n",
       "    <tr style=\"text-align: right;\">\n",
       "      <th></th>\n",
       "      <th>occ1</th>\n",
       "      <th>occ2</th>\n",
       "      <th>occ3</th>\n",
       "      <th>occ4</th>\n",
       "      <th>occ5</th>\n",
       "      <th>occ6</th>\n",
       "      <th>husband_occ1</th>\n",
       "      <th>husband_occ2</th>\n",
       "      <th>husband_occ3</th>\n",
       "      <th>husband_occ4</th>\n",
       "      <th>husband_occ5</th>\n",
       "      <th>husband_occ6</th>\n",
       "    </tr>\n",
       "  </thead>\n",
       "  <tbody>\n",
       "    <tr>\n",
       "      <th>0</th>\n",
       "      <td>0</td>\n",
       "      <td>1</td>\n",
       "      <td>0</td>\n",
       "      <td>0</td>\n",
       "      <td>0</td>\n",
       "      <td>0</td>\n",
       "      <td>0</td>\n",
       "      <td>0</td>\n",
       "      <td>0</td>\n",
       "      <td>0</td>\n",
       "      <td>1</td>\n",
       "      <td>0</td>\n",
       "    </tr>\n",
       "    <tr>\n",
       "      <th>1</th>\n",
       "      <td>0</td>\n",
       "      <td>0</td>\n",
       "      <td>1</td>\n",
       "      <td>0</td>\n",
       "      <td>0</td>\n",
       "      <td>0</td>\n",
       "      <td>0</td>\n",
       "      <td>0</td>\n",
       "      <td>0</td>\n",
       "      <td>1</td>\n",
       "      <td>0</td>\n",
       "      <td>0</td>\n",
       "    </tr>\n",
       "    <tr>\n",
       "      <th>2</th>\n",
       "      <td>0</td>\n",
       "      <td>0</td>\n",
       "      <td>1</td>\n",
       "      <td>0</td>\n",
       "      <td>0</td>\n",
       "      <td>0</td>\n",
       "      <td>0</td>\n",
       "      <td>0</td>\n",
       "      <td>0</td>\n",
       "      <td>0</td>\n",
       "      <td>1</td>\n",
       "      <td>0</td>\n",
       "    </tr>\n",
       "    <tr>\n",
       "      <th>3</th>\n",
       "      <td>0</td>\n",
       "      <td>0</td>\n",
       "      <td>0</td>\n",
       "      <td>0</td>\n",
       "      <td>1</td>\n",
       "      <td>0</td>\n",
       "      <td>0</td>\n",
       "      <td>0</td>\n",
       "      <td>0</td>\n",
       "      <td>0</td>\n",
       "      <td>1</td>\n",
       "      <td>0</td>\n",
       "    </tr>\n",
       "    <tr>\n",
       "      <th>4</th>\n",
       "      <td>0</td>\n",
       "      <td>0</td>\n",
       "      <td>1</td>\n",
       "      <td>0</td>\n",
       "      <td>0</td>\n",
       "      <td>0</td>\n",
       "      <td>0</td>\n",
       "      <td>0</td>\n",
       "      <td>0</td>\n",
       "      <td>1</td>\n",
       "      <td>0</td>\n",
       "      <td>0</td>\n",
       "    </tr>\n",
       "  </tbody>\n",
       "</table>\n",
       "</div>"
      ],
      "text/plain": [
       "   occ1  occ2  occ3  occ4  occ5  occ6  husband_occ1  husband_occ2  \\\n",
       "0     0     1     0     0     0     0             0             0   \n",
       "1     0     0     1     0     0     0             0             0   \n",
       "2     0     0     1     0     0     0             0             0   \n",
       "3     0     0     0     0     1     0             0             0   \n",
       "4     0     0     1     0     0     0             0             0   \n",
       "\n",
       "   husband_occ3  husband_occ4  husband_occ5  husband_occ6  \n",
       "0             0             0             1             0  \n",
       "1             0             1             0             0  \n",
       "2             0             0             1             0  \n",
       "3             0             0             1             0  \n",
       "4             0             1             0             0  "
      ]
     },
     "execution_count": 12,
     "metadata": {},
     "output_type": "execute_result"
    }
   ],
   "source": [
    "df_dummy_varibles.head()"
   ]
  },
  {
   "cell_type": "code",
   "execution_count": 13,
   "id": "90ad52a8",
   "metadata": {},
   "outputs": [
    {
     "data": {
      "text/html": [
       "<div>\n",
       "<style scoped>\n",
       "    .dataframe tbody tr th:only-of-type {\n",
       "        vertical-align: middle;\n",
       "    }\n",
       "\n",
       "    .dataframe tbody tr th {\n",
       "        vertical-align: top;\n",
       "    }\n",
       "\n",
       "    .dataframe thead th {\n",
       "        text-align: right;\n",
       "    }\n",
       "</style>\n",
       "<table border=\"1\" class=\"dataframe\">\n",
       "  <thead>\n",
       "    <tr style=\"text-align: right;\">\n",
       "      <th></th>\n",
       "      <th>rate_marriage</th>\n",
       "      <th>age</th>\n",
       "      <th>yrs_married</th>\n",
       "      <th>children</th>\n",
       "      <th>religious</th>\n",
       "      <th>educ</th>\n",
       "      <th>affairs</th>\n",
       "      <th>occ1</th>\n",
       "      <th>occ2</th>\n",
       "      <th>occ3</th>\n",
       "      <th>occ4</th>\n",
       "      <th>occ5</th>\n",
       "      <th>occ6</th>\n",
       "      <th>husband_occ1</th>\n",
       "      <th>husband_occ2</th>\n",
       "      <th>husband_occ3</th>\n",
       "      <th>husband_occ4</th>\n",
       "      <th>husband_occ5</th>\n",
       "      <th>husband_occ6</th>\n",
       "    </tr>\n",
       "  </thead>\n",
       "  <tbody>\n",
       "    <tr>\n",
       "      <th>0</th>\n",
       "      <td>3.0</td>\n",
       "      <td>32.0</td>\n",
       "      <td>9.0</td>\n",
       "      <td>3.0</td>\n",
       "      <td>3.0</td>\n",
       "      <td>17.0</td>\n",
       "      <td>0.111111</td>\n",
       "      <td>0</td>\n",
       "      <td>1</td>\n",
       "      <td>0</td>\n",
       "      <td>0</td>\n",
       "      <td>0</td>\n",
       "      <td>0</td>\n",
       "      <td>0</td>\n",
       "      <td>0</td>\n",
       "      <td>0</td>\n",
       "      <td>0</td>\n",
       "      <td>1</td>\n",
       "      <td>0</td>\n",
       "    </tr>\n",
       "    <tr>\n",
       "      <th>1</th>\n",
       "      <td>3.0</td>\n",
       "      <td>27.0</td>\n",
       "      <td>13.0</td>\n",
       "      <td>3.0</td>\n",
       "      <td>1.0</td>\n",
       "      <td>14.0</td>\n",
       "      <td>3.230769</td>\n",
       "      <td>0</td>\n",
       "      <td>0</td>\n",
       "      <td>1</td>\n",
       "      <td>0</td>\n",
       "      <td>0</td>\n",
       "      <td>0</td>\n",
       "      <td>0</td>\n",
       "      <td>0</td>\n",
       "      <td>0</td>\n",
       "      <td>1</td>\n",
       "      <td>0</td>\n",
       "      <td>0</td>\n",
       "    </tr>\n",
       "    <tr>\n",
       "      <th>2</th>\n",
       "      <td>4.0</td>\n",
       "      <td>22.0</td>\n",
       "      <td>2.5</td>\n",
       "      <td>0.0</td>\n",
       "      <td>1.0</td>\n",
       "      <td>16.0</td>\n",
       "      <td>1.400000</td>\n",
       "      <td>0</td>\n",
       "      <td>0</td>\n",
       "      <td>1</td>\n",
       "      <td>0</td>\n",
       "      <td>0</td>\n",
       "      <td>0</td>\n",
       "      <td>0</td>\n",
       "      <td>0</td>\n",
       "      <td>0</td>\n",
       "      <td>0</td>\n",
       "      <td>1</td>\n",
       "      <td>0</td>\n",
       "    </tr>\n",
       "    <tr>\n",
       "      <th>3</th>\n",
       "      <td>4.0</td>\n",
       "      <td>37.0</td>\n",
       "      <td>16.5</td>\n",
       "      <td>4.0</td>\n",
       "      <td>3.0</td>\n",
       "      <td>16.0</td>\n",
       "      <td>0.727273</td>\n",
       "      <td>0</td>\n",
       "      <td>0</td>\n",
       "      <td>0</td>\n",
       "      <td>0</td>\n",
       "      <td>1</td>\n",
       "      <td>0</td>\n",
       "      <td>0</td>\n",
       "      <td>0</td>\n",
       "      <td>0</td>\n",
       "      <td>0</td>\n",
       "      <td>1</td>\n",
       "      <td>0</td>\n",
       "    </tr>\n",
       "    <tr>\n",
       "      <th>4</th>\n",
       "      <td>5.0</td>\n",
       "      <td>27.0</td>\n",
       "      <td>9.0</td>\n",
       "      <td>1.0</td>\n",
       "      <td>1.0</td>\n",
       "      <td>14.0</td>\n",
       "      <td>4.666666</td>\n",
       "      <td>0</td>\n",
       "      <td>0</td>\n",
       "      <td>1</td>\n",
       "      <td>0</td>\n",
       "      <td>0</td>\n",
       "      <td>0</td>\n",
       "      <td>0</td>\n",
       "      <td>0</td>\n",
       "      <td>0</td>\n",
       "      <td>1</td>\n",
       "      <td>0</td>\n",
       "      <td>0</td>\n",
       "    </tr>\n",
       "  </tbody>\n",
       "</table>\n",
       "</div>"
      ],
      "text/plain": [
       "   rate_marriage   age  yrs_married  children  religious  educ   affairs  \\\n",
       "0            3.0  32.0          9.0       3.0        3.0  17.0  0.111111   \n",
       "1            3.0  27.0         13.0       3.0        1.0  14.0  3.230769   \n",
       "2            4.0  22.0          2.5       0.0        1.0  16.0  1.400000   \n",
       "3            4.0  37.0         16.5       4.0        3.0  16.0  0.727273   \n",
       "4            5.0  27.0          9.0       1.0        1.0  14.0  4.666666   \n",
       "\n",
       "   occ1  occ2  occ3  occ4  occ5  occ6  husband_occ1  husband_occ2  \\\n",
       "0     0     1     0     0     0     0             0             0   \n",
       "1     0     0     1     0     0     0             0             0   \n",
       "2     0     0     1     0     0     0             0             0   \n",
       "3     0     0     0     0     1     0             0             0   \n",
       "4     0     0     1     0     0     0             0             0   \n",
       "\n",
       "   husband_occ3  husband_occ4  husband_occ5  husband_occ6  \n",
       "0             0             0             1             0  \n",
       "1             0             1             0             0  \n",
       "2             0             0             1             0  \n",
       "3             0             0             1             0  \n",
       "4             0             1             0             0  "
      ]
     },
     "execution_count": 13,
     "metadata": {},
     "output_type": "execute_result"
    }
   ],
   "source": [
    "# Concat all the DataFrames together: X, and dummy variables\n",
    "X  = pd.concat([X, df_dummy_varibles], axis = 1)\n",
    "\n",
    "# Show the Results\n",
    "X.head()"
   ]
  },
  {
   "cell_type": "markdown",
   "id": "42d00c66",
   "metadata": {},
   "source": [
    "Now let's go ahead and set up the Y."
   ]
  },
  {
   "cell_type": "code",
   "execution_count": 14,
   "id": "27985fb6",
   "metadata": {},
   "outputs": [
    {
     "data": {
      "text/plain": [
       "0    1\n",
       "1    1\n",
       "2    1\n",
       "3    1\n",
       "4    1\n",
       "Name: Had_Affair, dtype: int64"
      ]
     },
     "execution_count": 14,
     "metadata": {},
     "output_type": "execute_result"
    }
   ],
   "source": [
    "# Set up Y as the Target Class, Had Affair [similar to Linear Regression]\n",
    "Y = df_affairs['Had_Affair']\n",
    "\n",
    "# Show a preview of the Target\n",
    "Y.head()"
   ]
  },
  {
   "cell_type": "markdown",
   "id": "cda66f57",
   "metadata": {},
   "source": [
    "### Part 6: Multicollinearity Consideration.\n",
    "\n",
    "Now we need to get rid of a few columns. We will be dropping the occ1 and hocc1 columns to avoid [multicollinearity](http://en.wikipedia.org/wiki/Multicollinearity#Remedies_for_multicollinearity). Multicollinearity occurs due to the [dummy variables](http://en.wikipedia.org/wiki/Dummy_variable_(statistics)) we created. This is because the dummy variables are highly correlated, our model begins to get distorted because one of the dummy variables can be linearly predicted from the others. We take care of this problem by dropping one of the dummy variables from each set, we do this at the cost of losing a data set point.\n",
    "\n",
    "The other column we will drop is the affairs column. This is because it is basically a repeat of what will be our Y target, instead of 0 and 1 it just has 0 or a number, so we'll need to drop it for our target to make sense."
   ]
  },
  {
   "cell_type": "code",
   "execution_count": 15,
   "id": "47734f89",
   "metadata": {},
   "outputs": [
    {
     "data": {
      "text/html": [
       "<div>\n",
       "<style scoped>\n",
       "    .dataframe tbody tr th:only-of-type {\n",
       "        vertical-align: middle;\n",
       "    }\n",
       "\n",
       "    .dataframe tbody tr th {\n",
       "        vertical-align: top;\n",
       "    }\n",
       "\n",
       "    .dataframe thead th {\n",
       "        text-align: right;\n",
       "    }\n",
       "</style>\n",
       "<table border=\"1\" class=\"dataframe\">\n",
       "  <thead>\n",
       "    <tr style=\"text-align: right;\">\n",
       "      <th></th>\n",
       "      <th>rate_marriage</th>\n",
       "      <th>age</th>\n",
       "      <th>yrs_married</th>\n",
       "      <th>children</th>\n",
       "      <th>religious</th>\n",
       "      <th>educ</th>\n",
       "      <th>occ2</th>\n",
       "      <th>occ3</th>\n",
       "      <th>occ4</th>\n",
       "      <th>occ5</th>\n",
       "      <th>occ6</th>\n",
       "      <th>husband_occ2</th>\n",
       "      <th>husband_occ3</th>\n",
       "      <th>husband_occ4</th>\n",
       "      <th>husband_occ5</th>\n",
       "      <th>husband_occ6</th>\n",
       "    </tr>\n",
       "  </thead>\n",
       "  <tbody>\n",
       "    <tr>\n",
       "      <th>0</th>\n",
       "      <td>3.0</td>\n",
       "      <td>32.0</td>\n",
       "      <td>9.0</td>\n",
       "      <td>3.0</td>\n",
       "      <td>3.0</td>\n",
       "      <td>17.0</td>\n",
       "      <td>1</td>\n",
       "      <td>0</td>\n",
       "      <td>0</td>\n",
       "      <td>0</td>\n",
       "      <td>0</td>\n",
       "      <td>0</td>\n",
       "      <td>0</td>\n",
       "      <td>0</td>\n",
       "      <td>1</td>\n",
       "      <td>0</td>\n",
       "    </tr>\n",
       "    <tr>\n",
       "      <th>1</th>\n",
       "      <td>3.0</td>\n",
       "      <td>27.0</td>\n",
       "      <td>13.0</td>\n",
       "      <td>3.0</td>\n",
       "      <td>1.0</td>\n",
       "      <td>14.0</td>\n",
       "      <td>0</td>\n",
       "      <td>1</td>\n",
       "      <td>0</td>\n",
       "      <td>0</td>\n",
       "      <td>0</td>\n",
       "      <td>0</td>\n",
       "      <td>0</td>\n",
       "      <td>1</td>\n",
       "      <td>0</td>\n",
       "      <td>0</td>\n",
       "    </tr>\n",
       "    <tr>\n",
       "      <th>2</th>\n",
       "      <td>4.0</td>\n",
       "      <td>22.0</td>\n",
       "      <td>2.5</td>\n",
       "      <td>0.0</td>\n",
       "      <td>1.0</td>\n",
       "      <td>16.0</td>\n",
       "      <td>0</td>\n",
       "      <td>1</td>\n",
       "      <td>0</td>\n",
       "      <td>0</td>\n",
       "      <td>0</td>\n",
       "      <td>0</td>\n",
       "      <td>0</td>\n",
       "      <td>0</td>\n",
       "      <td>1</td>\n",
       "      <td>0</td>\n",
       "    </tr>\n",
       "    <tr>\n",
       "      <th>3</th>\n",
       "      <td>4.0</td>\n",
       "      <td>37.0</td>\n",
       "      <td>16.5</td>\n",
       "      <td>4.0</td>\n",
       "      <td>3.0</td>\n",
       "      <td>16.0</td>\n",
       "      <td>0</td>\n",
       "      <td>0</td>\n",
       "      <td>0</td>\n",
       "      <td>1</td>\n",
       "      <td>0</td>\n",
       "      <td>0</td>\n",
       "      <td>0</td>\n",
       "      <td>0</td>\n",
       "      <td>1</td>\n",
       "      <td>0</td>\n",
       "    </tr>\n",
       "    <tr>\n",
       "      <th>4</th>\n",
       "      <td>5.0</td>\n",
       "      <td>27.0</td>\n",
       "      <td>9.0</td>\n",
       "      <td>1.0</td>\n",
       "      <td>1.0</td>\n",
       "      <td>14.0</td>\n",
       "      <td>0</td>\n",
       "      <td>1</td>\n",
       "      <td>0</td>\n",
       "      <td>0</td>\n",
       "      <td>0</td>\n",
       "      <td>0</td>\n",
       "      <td>0</td>\n",
       "      <td>1</td>\n",
       "      <td>0</td>\n",
       "      <td>0</td>\n",
       "    </tr>\n",
       "  </tbody>\n",
       "</table>\n",
       "</div>"
      ],
      "text/plain": [
       "   rate_marriage   age  yrs_married  children  religious  educ  occ2  occ3  \\\n",
       "0            3.0  32.0          9.0       3.0        3.0  17.0     1     0   \n",
       "1            3.0  27.0         13.0       3.0        1.0  14.0     0     1   \n",
       "2            4.0  22.0          2.5       0.0        1.0  16.0     0     1   \n",
       "3            4.0  37.0         16.5       4.0        3.0  16.0     0     0   \n",
       "4            5.0  27.0          9.0       1.0        1.0  14.0     0     1   \n",
       "\n",
       "   occ4  occ5  occ6  husband_occ2  husband_occ3  husband_occ4  husband_occ5  \\\n",
       "0     0     0     0             0             0             0             1   \n",
       "1     0     0     0             0             0             1             0   \n",
       "2     0     0     0             0             0             0             1   \n",
       "3     0     1     0             0             0             0             1   \n",
       "4     0     0     0             0             0             1             0   \n",
       "\n",
       "   husband_occ6  \n",
       "0             0  \n",
       "1             0  \n",
       "2             0  \n",
       "3             0  \n",
       "4             0  "
      ]
     },
     "execution_count": 15,
     "metadata": {},
     "output_type": "execute_result"
    }
   ],
   "source": [
    "# Dropping one column of each dummy variable set to avoid multicollinearity\n",
    "X = X.drop(['occ1','husband_occ1'], axis = 1)\n",
    "\n",
    "# Drop affairs column so Y target makes sense\n",
    "X = X.drop(['affairs'], axis = 1)\n",
    "\n",
    "# Show a preview\n",
    "X.head()"
   ]
  },
  {
   "cell_type": "markdown",
   "id": "abd590b7",
   "metadata": {},
   "source": [
    "Make note of why you need to remove two dummy variables, one form each set? - I need to do more research on this, BUT I think it broadly help remove correlation between predictor variables. [Need to find a better way to say that]"
   ]
  },
  {
   "cell_type": "markdown",
   "id": "c487a5ac",
   "metadata": {},
   "source": [
    "In order to use the Y with SciKit Learn, we need to set it as a 1-D array. This means we need to \"flatten\" the array. Numpy has a built in method for this called [ravel](http://docs.scipy.org/doc/numpy/reference/generated/numpy.ravel.html). Let's use it!"
   ]
  },
  {
   "cell_type": "code",
   "execution_count": 16,
   "id": "b47558c1",
   "metadata": {},
   "outputs": [
    {
     "data": {
      "text/plain": [
       "array([1, 1, 1, ..., 0, 0, 0], dtype=int64)"
      ]
     },
     "execution_count": 16,
     "metadata": {},
     "output_type": "execute_result"
    }
   ],
   "source": [
    "# Flatten the array via ravel\n",
    "Y = Y.ravel()\n",
    "\n",
    "# Show the result\n",
    "Y"
   ]
  },
  {
   "cell_type": "markdown",
   "id": "77386c93",
   "metadata": {},
   "source": [
    "### Part 7: Logistic Regression with SciKit Learn\n",
    "\n",
    "Awesome! Now let's go ahead and run the logistic regression. This is a very similar process to the Linear Regression from the previous lecture. We'll create the model, the fit the data into the model, and check our accuracy score. Then we'll split the data into testing and training sets and see if our results improve.\n",
    "\n",
    "Let's start by initiating the model!"
   ]
  },
  {
   "cell_type": "code",
   "execution_count": 21,
   "id": "a0e229e2",
   "metadata": {},
   "outputs": [
    {
     "name": "stderr",
     "output_type": "stream",
     "text": [
      "C:\\Users\\ggebu\\anaconda3\\Lib\\site-packages\\sklearn\\linear_model\\_logistic.py:458: ConvergenceWarning: lbfgs failed to converge (status=1):\n",
      "STOP: TOTAL NO. of ITERATIONS REACHED LIMIT.\n",
      "\n",
      "Increase the number of iterations (max_iter) or scale the data as shown in:\n",
      "    https://scikit-learn.org/stable/modules/preprocessing.html\n",
      "Please also refer to the documentation for alternative solver options:\n",
      "    https://scikit-learn.org/stable/modules/linear_model.html#logistic-regression\n",
      "  n_iter_i = _check_optimize_result(\n"
     ]
    },
    {
     "data": {
      "text/plain": [
       "0.7246308513980522"
      ]
     },
     "execution_count": 21,
     "metadata": {},
     "output_type": "execute_result"
    }
   ],
   "source": [
    "# Create the LogisticRegression model\n",
    "logistic_model = LogisticRegression()\n",
    "\n",
    "# Fit out data\n",
    "logistic_model.fit(X,Y)\n",
    "\n",
    "# Check our accuracy via the sk method\n",
    "logistic_model.score(X,Y)"
   ]
  },
  {
   "cell_type": "markdown",
   "id": "0257eca9",
   "metadata": {},
   "source": [
    "Looks like we got a 73% accuracy rating. Let's go ahead and compare this to the original Y data. We can do this by simply taking the mean of the Y data, since it is in the format 1 or 0, we can use the mean to calulate the percentage of women who reported having affairs. This is known as checking the [null error rate](http://en.wikipedia.org/wiki/Type_I_and_type_II_errors)."
   ]
  },
  {
   "cell_type": "code",
   "execution_count": 39,
   "id": "0f0ee01f",
   "metadata": {},
   "outputs": [
    {
     "data": {
      "text/plain": [
       "0.3224945020420987"
      ]
     },
     "execution_count": 39,
     "metadata": {},
     "output_type": "execute_result"
    }
   ],
   "source": [
    "# Check the percentage of women that had affairs\n",
    "Y.mean()"
   ]
  },
  {
   "cell_type": "markdown",
   "id": "e2b764fc",
   "metadata": {},
   "source": [
    "This means that if our model just simply guessed \"no affair\" we would have had 1-0.32=0.68 accuracy (or 68%) accuracy. So while we are doing better than the null error rate, we aren't doing that much better.\n",
    "\n",
    "Let's go ahead and check the coefficients of our model to check what seemed to be the stronger predictors."
   ]
  },
  {
   "cell_type": "code",
   "execution_count": 26,
   "id": "a02da9a1",
   "metadata": {},
   "outputs": [
    {
     "data": {
      "text/plain": [
       "'\\nusing zip to bring the column names and the np.transpose function to bring\\ntogether the coefficients from the model\\n'"
      ]
     },
     "execution_count": 26,
     "metadata": {},
     "output_type": "execute_result"
    }
   ],
   "source": [
    "# Create a coefficient DataFrame\n",
    "df_coefficient = DataFrame(zip(X.columns,np.transpose(logistic_model.coef_)))\n",
    "\n",
    "'''\n",
    "using zip to bring the column names and the np.transpose function to bring\n",
    "together the coefficients from the model\n",
    "'''"
   ]
  },
  {
   "cell_type": "code",
   "execution_count": 27,
   "id": "3a91cce1",
   "metadata": {},
   "outputs": [
    {
     "data": {
      "text/html": [
       "<div>\n",
       "<style scoped>\n",
       "    .dataframe tbody tr th:only-of-type {\n",
       "        vertical-align: middle;\n",
       "    }\n",
       "\n",
       "    .dataframe tbody tr th {\n",
       "        vertical-align: top;\n",
       "    }\n",
       "\n",
       "    .dataframe thead th {\n",
       "        text-align: right;\n",
       "    }\n",
       "</style>\n",
       "<table border=\"1\" class=\"dataframe\">\n",
       "  <thead>\n",
       "    <tr style=\"text-align: right;\">\n",
       "      <th></th>\n",
       "      <th>0</th>\n",
       "      <th>1</th>\n",
       "    </tr>\n",
       "  </thead>\n",
       "  <tbody>\n",
       "    <tr>\n",
       "      <th>0</th>\n",
       "      <td>rate_marriage</td>\n",
       "      <td>[-0.669974203344175]</td>\n",
       "    </tr>\n",
       "    <tr>\n",
       "      <th>1</th>\n",
       "      <td>age</td>\n",
       "      <td>[-0.0601306857502188]</td>\n",
       "    </tr>\n",
       "    <tr>\n",
       "      <th>2</th>\n",
       "      <td>yrs_married</td>\n",
       "      <td>[0.1029576022842558]</td>\n",
       "    </tr>\n",
       "    <tr>\n",
       "      <th>3</th>\n",
       "      <td>children</td>\n",
       "      <td>[0.04341982949640421]</td>\n",
       "    </tr>\n",
       "    <tr>\n",
       "      <th>4</th>\n",
       "      <td>religious</td>\n",
       "      <td>[-0.35876728441392075]</td>\n",
       "    </tr>\n",
       "    <tr>\n",
       "      <th>5</th>\n",
       "      <td>educ</td>\n",
       "      <td>[0.025982655334242155]</td>\n",
       "    </tr>\n",
       "    <tr>\n",
       "      <th>6</th>\n",
       "      <td>occ2</td>\n",
       "      <td>[0.26665244778203795]</td>\n",
       "    </tr>\n",
       "    <tr>\n",
       "      <th>7</th>\n",
       "      <td>occ3</td>\n",
       "      <td>[0.6337933701733534]</td>\n",
       "    </tr>\n",
       "    <tr>\n",
       "      <th>8</th>\n",
       "      <td>occ4</td>\n",
       "      <td>[0.3564865901487486]</td>\n",
       "    </tr>\n",
       "    <tr>\n",
       "      <th>9</th>\n",
       "      <td>occ5</td>\n",
       "      <td>[0.8667524647185267]</td>\n",
       "    </tr>\n",
       "    <tr>\n",
       "      <th>10</th>\n",
       "      <td>occ6</td>\n",
       "      <td>[0.3143431476534348]</td>\n",
       "    </tr>\n",
       "    <tr>\n",
       "      <th>11</th>\n",
       "      <td>husband_occ2</td>\n",
       "      <td>[0.44641007838058283]</td>\n",
       "    </tr>\n",
       "    <tr>\n",
       "      <th>12</th>\n",
       "      <td>husband_occ3</td>\n",
       "      <td>[0.621813929231989]</td>\n",
       "    </tr>\n",
       "    <tr>\n",
       "      <th>13</th>\n",
       "      <td>husband_occ4</td>\n",
       "      <td>[0.39459179246566894]</td>\n",
       "    </tr>\n",
       "    <tr>\n",
       "      <th>14</th>\n",
       "      <td>husband_occ5</td>\n",
       "      <td>[0.4281966834677519]</td>\n",
       "    </tr>\n",
       "    <tr>\n",
       "      <th>15</th>\n",
       "      <td>husband_occ6</td>\n",
       "      <td>[0.40333222714636247]</td>\n",
       "    </tr>\n",
       "  </tbody>\n",
       "</table>\n",
       "</div>"
      ],
      "text/plain": [
       "                0                       1\n",
       "0   rate_marriage    [-0.669974203344175]\n",
       "1             age   [-0.0601306857502188]\n",
       "2     yrs_married    [0.1029576022842558]\n",
       "3        children   [0.04341982949640421]\n",
       "4       religious  [-0.35876728441392075]\n",
       "5            educ  [0.025982655334242155]\n",
       "6            occ2   [0.26665244778203795]\n",
       "7            occ3    [0.6337933701733534]\n",
       "8            occ4    [0.3564865901487486]\n",
       "9            occ5    [0.8667524647185267]\n",
       "10           occ6    [0.3143431476534348]\n",
       "11   husband_occ2   [0.44641007838058283]\n",
       "12   husband_occ3     [0.621813929231989]\n",
       "13   husband_occ4   [0.39459179246566894]\n",
       "14   husband_occ5    [0.4281966834677519]\n",
       "15   husband_occ6   [0.40333222714636247]"
      ]
     },
     "execution_count": 27,
     "metadata": {},
     "output_type": "execute_result"
    }
   ],
   "source": [
    "df_coefficient"
   ]
  },
  {
   "cell_type": "markdown",
   "id": "6281a286",
   "metadata": {},
   "source": [
    "Looking at the coefficients we can see that a positive coeffecient corresponds to increasing the likelihood of having an affair while a negative coefficient means it corresponds to a decreased likelihood of having an affair as the actual data value point increases.\n",
    "\n",
    "As you might expect, an increased marriage rating corresponded to a decrease in the likelihood of having an affair. Increased religiousness also seems to correspond to a decrease in the likelihood of having an affair. \n",
    "\n",
    "Since all the dummy variables (the wife and husband occupations) are positive that means the lowest likelihood of having an affair corresponds to the baseline occupation we dropped (1-Student)."
   ]
  },
  {
   "cell_type": "markdown",
   "id": "6878117d",
   "metadata": {},
   "source": [
    "### Part 8: Testing and Training Data Sets\n",
    "\n",
    "Just like we did in the Linear Regression Lecture, we should be splitting our data into training and testing data sets. We'll follow a very similar procedure to the Linear Regression Lecture by using SciKit Learn's built-in train_test_split method."
   ]
  },
  {
   "cell_type": "code",
   "execution_count": 30,
   "id": "66e04d92",
   "metadata": {},
   "outputs": [
    {
     "name": "stderr",
     "output_type": "stream",
     "text": [
      "C:\\Users\\ggebu\\anaconda3\\Lib\\site-packages\\sklearn\\linear_model\\_logistic.py:458: ConvergenceWarning: lbfgs failed to converge (status=1):\n",
      "STOP: TOTAL NO. of ITERATIONS REACHED LIMIT.\n",
      "\n",
      "Increase the number of iterations (max_iter) or scale the data as shown in:\n",
      "    https://scikit-learn.org/stable/modules/preprocessing.html\n",
      "Please also refer to the documentation for alternative solver options:\n",
      "    https://scikit-learn.org/stable/modules/linear_model.html#logistic-regression\n",
      "  n_iter_i = _check_optimize_result(\n"
     ]
    },
    {
     "data": {
      "text/html": [
       "<style>#sk-container-id-2 {color: black;background-color: white;}#sk-container-id-2 pre{padding: 0;}#sk-container-id-2 div.sk-toggleable {background-color: white;}#sk-container-id-2 label.sk-toggleable__label {cursor: pointer;display: block;width: 100%;margin-bottom: 0;padding: 0.3em;box-sizing: border-box;text-align: center;}#sk-container-id-2 label.sk-toggleable__label-arrow:before {content: \"▸\";float: left;margin-right: 0.25em;color: #696969;}#sk-container-id-2 label.sk-toggleable__label-arrow:hover:before {color: black;}#sk-container-id-2 div.sk-estimator:hover label.sk-toggleable__label-arrow:before {color: black;}#sk-container-id-2 div.sk-toggleable__content {max-height: 0;max-width: 0;overflow: hidden;text-align: left;background-color: #f0f8ff;}#sk-container-id-2 div.sk-toggleable__content pre {margin: 0.2em;color: black;border-radius: 0.25em;background-color: #f0f8ff;}#sk-container-id-2 input.sk-toggleable__control:checked~div.sk-toggleable__content {max-height: 200px;max-width: 100%;overflow: auto;}#sk-container-id-2 input.sk-toggleable__control:checked~label.sk-toggleable__label-arrow:before {content: \"▾\";}#sk-container-id-2 div.sk-estimator input.sk-toggleable__control:checked~label.sk-toggleable__label {background-color: #d4ebff;}#sk-container-id-2 div.sk-label input.sk-toggleable__control:checked~label.sk-toggleable__label {background-color: #d4ebff;}#sk-container-id-2 input.sk-hidden--visually {border: 0;clip: rect(1px 1px 1px 1px);clip: rect(1px, 1px, 1px, 1px);height: 1px;margin: -1px;overflow: hidden;padding: 0;position: absolute;width: 1px;}#sk-container-id-2 div.sk-estimator {font-family: monospace;background-color: #f0f8ff;border: 1px dotted black;border-radius: 0.25em;box-sizing: border-box;margin-bottom: 0.5em;}#sk-container-id-2 div.sk-estimator:hover {background-color: #d4ebff;}#sk-container-id-2 div.sk-parallel-item::after {content: \"\";width: 100%;border-bottom: 1px solid gray;flex-grow: 1;}#sk-container-id-2 div.sk-label:hover label.sk-toggleable__label {background-color: #d4ebff;}#sk-container-id-2 div.sk-serial::before {content: \"\";position: absolute;border-left: 1px solid gray;box-sizing: border-box;top: 0;bottom: 0;left: 50%;z-index: 0;}#sk-container-id-2 div.sk-serial {display: flex;flex-direction: column;align-items: center;background-color: white;padding-right: 0.2em;padding-left: 0.2em;position: relative;}#sk-container-id-2 div.sk-item {position: relative;z-index: 1;}#sk-container-id-2 div.sk-parallel {display: flex;align-items: stretch;justify-content: center;background-color: white;position: relative;}#sk-container-id-2 div.sk-item::before, #sk-container-id-2 div.sk-parallel-item::before {content: \"\";position: absolute;border-left: 1px solid gray;box-sizing: border-box;top: 0;bottom: 0;left: 50%;z-index: -1;}#sk-container-id-2 div.sk-parallel-item {display: flex;flex-direction: column;z-index: 1;position: relative;background-color: white;}#sk-container-id-2 div.sk-parallel-item:first-child::after {align-self: flex-end;width: 50%;}#sk-container-id-2 div.sk-parallel-item:last-child::after {align-self: flex-start;width: 50%;}#sk-container-id-2 div.sk-parallel-item:only-child::after {width: 0;}#sk-container-id-2 div.sk-dashed-wrapped {border: 1px dashed gray;margin: 0 0.4em 0.5em 0.4em;box-sizing: border-box;padding-bottom: 0.4em;background-color: white;}#sk-container-id-2 div.sk-label label {font-family: monospace;font-weight: bold;display: inline-block;line-height: 1.2em;}#sk-container-id-2 div.sk-label-container {text-align: center;}#sk-container-id-2 div.sk-container {/* jupyter's `normalize.less` sets `[hidden] { display: none; }` but bootstrap.min.css set `[hidden] { display: none !important; }` so we also need the `!important` here to be able to override the default hidden behavior on the sphinx rendered scikit-learn.org. See: https://github.com/scikit-learn/scikit-learn/issues/21755 */display: inline-block !important;position: relative;}#sk-container-id-2 div.sk-text-repr-fallback {display: none;}</style><div id=\"sk-container-id-2\" class=\"sk-top-container\"><div class=\"sk-text-repr-fallback\"><pre>LogisticRegression()</pre><b>In a Jupyter environment, please rerun this cell to show the HTML representation or trust the notebook. <br />On GitHub, the HTML representation is unable to render, please try loading this page with nbviewer.org.</b></div><div class=\"sk-container\" hidden><div class=\"sk-item\"><div class=\"sk-estimator sk-toggleable\"><input class=\"sk-toggleable__control sk-hidden--visually\" id=\"sk-estimator-id-2\" type=\"checkbox\" checked><label for=\"sk-estimator-id-2\" class=\"sk-toggleable__label sk-toggleable__label-arrow\">LogisticRegression</label><div class=\"sk-toggleable__content\"><pre>LogisticRegression()</pre></div></div></div></div></div>"
      ],
      "text/plain": [
       "LogisticRegression()"
      ]
     },
     "execution_count": 30,
     "metadata": {},
     "output_type": "execute_result"
    }
   ],
   "source": [
    "# Split the data [like the Linear Regression Project]\n",
    "X_train, X_test, Y_train, Y_test = train_test_split(X,Y)\n",
    "\n",
    "# Make a new log_model\n",
    "logistic_model2 = LogisticRegression()\n",
    "\n",
    "# Fit the new model based on training data\n",
    "logistic_model2.fit(X_train,Y_train)"
   ]
  },
  {
   "cell_type": "markdown",
   "id": "50e267b3",
   "metadata": {},
   "source": [
    "Now we can use predict to predict classification labels for the next test set, then we will reevaluate our accuracy score!"
   ]
  },
  {
   "cell_type": "code",
   "execution_count": 31,
   "id": "6d0673c4",
   "metadata": {},
   "outputs": [
    {
     "name": "stdout",
     "output_type": "stream",
     "text": [
      "0.7355527638190955\n"
     ]
    }
   ],
   "source": [
    "# Predict the classes of the testing dataset\n",
    "class_predict = logistic_model2.predict(X_test)\n",
    "\n",
    "# Compare the predicted classes to the actual test classes\n",
    "print(metrics.accuracy_score(Y_test, class_predict))"
   ]
  },
  {
   "cell_type": "markdown",
   "id": "e9119dd3",
   "metadata": {},
   "source": [
    "Now we have a 73.35% accuracy score, which is basically the same as our previous accuracy score, 72.58%."
   ]
  },
  {
   "cell_type": "markdown",
   "id": "4768f164",
   "metadata": {},
   "source": [
    "### Part 9:  Conclusion and more Resources\n",
    "\n",
    "So what could we do to try to further improve our Logistic Regression model? We could try some [regularization techniques](http://en.wikipedia.org/wiki/Regularization_%28mathematics%29#Regularization_in_statistics_and_machine_learning) or using a non-linear model.\n",
    "\n",
    "I'll leave the Logistic Regression topic here for you to explore more possibilites on your own. Here are several more resources and tutorials with other data sets to explore:\n",
    "\n",
    "1.) Here's another great post on how to do logistic regression analysis using Statsmodels from [yhat](http://blog.yhathq.com/posts/logistic-regression-and-python.html)!\n",
    "\n",
    "2.) The SciKit learn Documentation includes several [examples](http://scikit-learn.org/stable/modules/generated/sklearn.linear_model.LogisticRegression.html) at the bottom of the page.\n",
    "\n",
    "3.) DataRobot has a great overview of [Logistic Regression](http://www.datarobot.com/blog/classification-with-scikit-learn/)\n",
    "\n",
    "4.) Fantastic resource from [aimotion.blogspot](http://aimotion.blogspot.com/2011/11/machine-learning-with-python-logistic.html) on the Logistic Regression and the Mathmatics of how it relates to the cost function and gradient!\n",
    "\n",
    "5.) Resource for difference between Linear and Logistic Regression [here](https://www.kdnuggets.com/2022/03/linear-logistic-regression-succinct-explanation.html)"
   ]
  },
  {
   "cell_type": "code",
   "execution_count": null,
   "id": "30bdc710",
   "metadata": {},
   "outputs": [],
   "source": []
  }
 ],
 "metadata": {
  "kernelspec": {
   "display_name": "Python 3 (ipykernel)",
   "language": "python",
   "name": "python3"
  },
  "language_info": {
   "codemirror_mode": {
    "name": "ipython",
    "version": 3
   },
   "file_extension": ".py",
   "mimetype": "text/x-python",
   "name": "python",
   "nbconvert_exporter": "python",
   "pygments_lexer": "ipython3",
   "version": "3.11.3"
  }
 },
 "nbformat": 4,
 "nbformat_minor": 5
}
